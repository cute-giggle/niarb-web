{
 "cells": [
  {
   "cell_type": "code",
   "execution_count": 5,
   "metadata": {},
   "outputs": [],
   "source": [
    "import json\n",
    "import os\n",
    "\n",
    "with open('corpus.json', 'r') as f:\n",
    "    corpus = json.load(f)\n",
    "\n",
    "with open('../brain-surface/annotation/brodmann_region_names.txt', 'r') as f:\n",
    "    region_names = f.read().split('\\n')\n",
    "\n",
    "data = {}\n",
    "for region in region_names:\n",
    "    data[region] = {\n",
    "        'name': region,\n",
    "        'synonyms': corpus[region]['Synonym'],\n",
    "        'description': corpus[region]['Description']\n",
    "    }\n",
    "    related_corpus = ''\n",
    "    for key, value in corpus[region]['Relational corpus'].items():\n",
    "        related_corpus += f' {value}'\n",
    "    data[region]['related corpus'] = related_corpus\n",
    "\n",
    "with open('brodmann_region_detail.json', 'w') as f:\n",
    "    json.dump(data, f, indent=4)"
   ]
  }
 ],
 "metadata": {
  "kernelspec": {
   "display_name": "Python 3",
   "language": "python",
   "name": "python3"
  },
  "language_info": {
   "codemirror_mode": {
    "name": "ipython",
    "version": 3
   },
   "file_extension": ".py",
   "mimetype": "text/x-python",
   "name": "python",
   "nbconvert_exporter": "python",
   "pygments_lexer": "ipython3",
   "version": "3.10.8"
  },
  "orig_nbformat": 4
 },
 "nbformat": 4,
 "nbformat_minor": 2
}
