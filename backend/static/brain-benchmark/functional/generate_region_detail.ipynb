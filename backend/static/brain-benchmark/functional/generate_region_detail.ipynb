{
 "cells": [
  {
   "cell_type": "code",
   "execution_count": 2,
   "metadata": {},
   "outputs": [],
   "source": [
    "import json\n",
    "import numpy as np\n",
    "\n",
    "with open('node_benchmark.json') as f:\n",
    "    node_benchmark = json.load(f)\n",
    "\n",
    "with open('region_names_mapping.json') as f:\n",
    "    region_names_mapping = json.load(f)\n",
    "\n",
    "data = {}\n",
    "for region, benchmark in node_benchmark.items():\n",
    "    region = '7Networks_' + region\n",
    "    data[region] = {\n",
    "        'name': region,\n",
    "        'description': region_names_mapping[region],\n",
    "        'benchmark': {}\n",
    "    }\n",
    "    for indicator, value in benchmark.items():\n",
    "        histgram = np.histogram(value, bins=int(np.sqrt(len(value))))\n",
    "        data[region]['benchmark'][indicator] = {\n",
    "            'hist': np.around(histgram[0], 2).tolist(),\n",
    "            'bins': np.around(histgram[1][0: -1], 2).tolist()\n",
    "        }\n",
    "\n",
    "with open('../../brain-knowledge/shaefer-400-7_region_detail.json', 'w') as f:\n",
    "    json.dump(data, f)"
   ]
  }
 ],
 "metadata": {
  "kernelspec": {
   "display_name": "Python 3",
   "language": "python",
   "name": "python3"
  },
  "language_info": {
   "codemirror_mode": {
    "name": "ipython",
    "version": 3
   },
   "file_extension": ".py",
   "mimetype": "text/x-python",
   "name": "python",
   "nbconvert_exporter": "python",
   "pygments_lexer": "ipython3",
   "version": "3.10.8"
  },
  "orig_nbformat": 4
 },
 "nbformat": 4,
 "nbformat_minor": 2
}
