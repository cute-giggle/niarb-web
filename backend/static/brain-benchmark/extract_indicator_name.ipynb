{
 "cells": [
  {
   "cell_type": "code",
   "execution_count": 1,
   "metadata": {},
   "outputs": [],
   "source": [
    "import json\n",
    "\n",
    "with open('functional/global_benchmark.json', 'r') as f:\n",
    "    data = json.load(f)\n",
    "\n",
    "with open('functional/global_indicator_name.json', 'w') as f:\n",
    "    json.dump(list(data.keys()), f)\n",
    "\n",
    "with open('structural/global_benchmark.json', 'r') as f:\n",
    "    data = json.load(f)\n",
    "\n",
    "with open('structural/global_indicator_name.json', 'w') as f:\n",
    "    json.dump(list(data.keys()), f)"
   ]
  }
 ],
 "metadata": {
  "kernelspec": {
   "display_name": "Python 3",
   "language": "python",
   "name": "python3"
  },
  "language_info": {
   "codemirror_mode": {
    "name": "ipython",
    "version": 3
   },
   "file_extension": ".py",
   "mimetype": "text/x-python",
   "name": "python",
   "nbconvert_exporter": "python",
   "pygments_lexer": "ipython3",
   "version": "3.10.8"
  },
  "orig_nbformat": 4
 },
 "nbformat": 4,
 "nbformat_minor": 2
}
