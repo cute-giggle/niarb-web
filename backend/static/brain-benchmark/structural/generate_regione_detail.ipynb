{
 "cells": [
  {
   "cell_type": "code",
   "execution_count": 1,
   "metadata": {},
   "outputs": [],
   "source": [
    "import os\n",
    "import json\n",
    "import numpy as np\n",
    "\n",
    "with open('../../brain-knowledge/corpus.json', 'r') as f:\n",
    "    corpus = json.load(f)\n",
    "\n",
    "with open('node_benchmark.json', 'r') as f:\n",
    "    node_benchmark = json.load(f)\n",
    "\n",
    "with open('../../brain-surface/annotation/aparc_region_names.txt', 'r') as f:\n",
    "    region_names = f.read().split('\\n')\n",
    "\n",
    "data = {}\n",
    "for region in region_names:\n",
    "    item = {\n",
    "        'name': region,\n",
    "        'synonyms': corpus[region]['Synonym'],\n",
    "        'description': corpus[region]['Description'],\n",
    "    }\n",
    "    relative_corpus = ''\n",
    "    for key, value in corpus[region]['Relational corpus'].items():\n",
    "        relative_corpus += f' {value}\\n'\n",
    "    item['related corpus'] = relative_corpus\n",
    "    other_name = ''.join(region.split(' '))\n",
    "    other_name = other_name[0].lower() + other_name[1:]\n",
    "    benchmark = {}\n",
    "    for key, value in node_benchmark['left ' + other_name].items():\n",
    "        histogram = np.histogram(value, bins=int(np.sqrt(len(value))))\n",
    "        benchmark['left ' + other_name + ' ' + key] = {\n",
    "            'hist': np.around(histogram[0], 2).tolist(),\n",
    "            'bins': np.around(histogram[1][0: -1], 2).tolist()\n",
    "        }\n",
    "    for key, value in node_benchmark['right ' + other_name].items():\n",
    "        histogram = np.histogram(value, bins=int(np.sqrt(len(value))))\n",
    "        benchmark['right ' + other_name + ' ' + key] = {\n",
    "            'hist': np.around(histogram[0], 2).tolist(),\n",
    "            'bins': np.around(histogram[1][0: -1], 2).tolist()\n",
    "        }\n",
    "    item['benchmark'] = benchmark\n",
    "    data[other_name] = item\n",
    "\n",
    "with open('../../brain-knowledge/aparc_region_detail.json', 'w') as f:\n",
    "    json.dump(data, f, indent=4)"
   ]
  }
 ],
 "metadata": {
  "kernelspec": {
   "display_name": "Python 3",
   "language": "python",
   "name": "python3"
  },
  "language_info": {
   "codemirror_mode": {
    "name": "ipython",
    "version": 3
   },
   "file_extension": ".py",
   "mimetype": "text/x-python",
   "name": "python",
   "nbconvert_exporter": "python",
   "pygments_lexer": "ipython3",
   "version": "3.10.8"
  },
  "orig_nbformat": 4
 },
 "nbformat": 4,
 "nbformat_minor": 2
}
